{
 "cells": [
  {
   "cell_type": "code",
   "execution_count": 1,
   "metadata": {},
   "outputs": [],
   "source": [
    "import sys\n",
    "import os\n",
    "import pandas as pd\n",
    "sys.path.append('..')\n",
    "sys.path.append('../src')\n",
    "sys.path.append('../data')\n",
    "# from Src.config import hf_access_token, hf_model_cache_dir # noqa: E402\n",
    "# os.environ[\"HF_HOME\"] = hf_model_cache_dir \n",
    "# import torch\n",
    "\n",
    "%load_ext autoreload\n",
    "%autoreload 2"
   ]
  },
  {
   "cell_type": "markdown",
   "metadata": {},
   "source": [
    "Load the model \"gpt2\" or \"EleutherAI/pythia-6.9b\""
   ]
  },
  {
   "cell_type": "code",
   "execution_count": 2,
   "metadata": {},
   "outputs": [
    {
     "name": "stderr",
     "output_type": "stream",
     "text": [
      "/home/viki/miniconda3/envs/fact/lib/python3.10/site-packages/huggingface_hub/file_download.py:795: FutureWarning: `resume_download` is deprecated and will be removed in version 1.0.0. Downloads always resume when possible. If you want to force a new download, use `force_download=True`.\n",
      "  warnings.warn(\n"
     ]
    },
    {
     "name": "stdout",
     "output_type": "stream",
     "text": [
      "Loaded pretrained model gpt2 into HookedTransformer\n"
     ]
    }
   ],
   "source": [
    "from Src.model import ModelFactory\n",
    "model = ModelFactory.create(\"gpt2\")"
   ]
  },
  {
   "cell_type": "markdown",
   "metadata": {},
   "source": [
    "Then load the dataset (Warning, select the right dataset for the model you loaded). Load also the ablator class\n"
   ]
  },
  {
   "cell_type": "code",
   "execution_count": 3,
   "metadata": {},
   "outputs": [
    {
     "name": "stdout",
     "output_type": "stream",
     "text": [
      "\u001b[91m No subject found in the dataset \u001b[0m, proceeding with no subject data\n"
     ]
    },
    {
     "name": "stderr",
     "output_type": "stream",
     "text": [
      "Tokenizing and computing lengths: 100%|██████████| 10000/10000 [02:37<00:00, 63.47it/s]\n"
     ]
    }
   ],
   "source": [
    "from Src.dataset import BaseDataset\n",
    "from Src.experiment import Ablator\n",
    "\n",
    "\n",
    "dataset = BaseDataset(path = \"../data/full_data_sampled_gpt2.json\",\n",
    "                      model = model,\n",
    "                      experiment=\"copyVSfact\",\n",
    "                      no_subject=True)\n",
    "ablator = Ablator(model=model, dataset=dataset, experiment=\"copyVSfact\", batch_size=20)"
   ]
  },
  {
   "cell_type": "markdown",
   "metadata": {},
   "source": [
    "Set the heads that you want to modify, the value to multiply the heads and the token position that you want to modify (all, or attribute):"
   ]
  },
  {
   "cell_type": "code",
   "execution_count": 4,
   "metadata": {},
   "outputs": [],
   "source": [
    "cofa_heads = [(7, 10), (9, 9), (9, 6), (10, 1)]\n",
    "fa_heads = [(10, 7), (11, 10)]\n",
    "\n",
    "cofa_alphas = [1, 1/2, 1/5, 1/10, 0]\n",
    "fa_alphas = [0, 1, 2, 5, 10, 100]"
   ]
  },
  {
   "cell_type": "markdown",
   "metadata": {},
   "source": [
    "Run the attention modification:\n",
    "\n",
    "\n",
    "- mem --> logit of the factual token\n",
    "\n",
    "\n",
    "- cp --> logit of the counterfactual token\n",
    "\n",
    "- mem win --> number of factual predictions\n",
    "\n",
    "- cp win --> number of counterfactual predictions"
   ]
  },
  {
   "cell_type": "code",
   "execution_count": 5,
   "metadata": {},
   "outputs": [
    {
     "name": "stderr",
     "output_type": "stream",
     "text": [
      "Ablating: 100%|██████████| 24/24 [03:08<00:00,  7.84s/it]\n",
      "Ablating: 100%|██████████| 24/24 [01:46<00:00,  4.44s/it]\n",
      "Ablating: 100%|██████████| 24/24 [01:48<00:00,  4.52s/it]\n",
      "Ablating: 100%|██████████| 24/24 [01:44<00:00,  4.37s/it]\n",
      "Ablating: 100%|██████████| 24/24 [01:45<00:00,  4.39s/it]\n",
      "Ablating: 100%|██████████| 24/24 [01:44<00:00,  4.34s/it]\n"
     ]
    }
   ],
   "source": [
    "result_boost = []\n",
    "for alpha in fa_alphas:\n",
    "    ablator.set_heads(heads=fa_heads, value=alpha, position=\"attribute\")\n",
    "    result_boost.append(ablator.run())"
   ]
  },
  {
   "cell_type": "code",
   "execution_count": 6,
   "metadata": {},
   "outputs": [
    {
     "name": "stderr",
     "output_type": "stream",
     "text": [
      "Ablating:   0%|          | 0/24 [00:00<?, ?it/s]"
     ]
    },
    {
     "name": "stderr",
     "output_type": "stream",
     "text": [
      "Ablating: 100%|██████████| 24/24 [02:36<00:00,  6.51s/it]\n",
      "Ablating: 100%|██████████| 24/24 [02:45<00:00,  6.89s/it]\n",
      "Ablating: 100%|██████████| 24/24 [02:37<00:00,  6.58s/it]\n",
      "Ablating: 100%|██████████| 24/24 [02:38<00:00,  6.62s/it]\n",
      "Ablating: 100%|██████████| 24/24 [02:38<00:00,  6.60s/it]\n"
     ]
    }
   ],
   "source": [
    "result_surpress = []\n",
    "for alpha in cofa_alphas:\n",
    "    ablator.set_heads(heads=cofa_heads, value=alpha, position=\"attribute\")\n",
    "    result_surpress.append(ablator.run())"
   ]
  },
  {
   "cell_type": "code",
   "execution_count": null,
   "metadata": {},
   "outputs": [
    {
     "name": "stderr",
     "output_type": "stream",
     "text": [
      "Ablating:   0%|          | 0/24 [00:00<?, ?it/s]"
     ]
    },
    {
     "name": "stderr",
     "output_type": "stream",
     "text": [
      "Ablating: 100%|██████████| 24/24 [03:29<00:00,  8.73s/it]\n",
      "Ablating: 100%|██████████| 24/24 [03:28<00:00,  8.68s/it]\n",
      "Ablating: 100%|██████████| 24/24 [03:28<00:00,  8.67s/it]\n",
      "Ablating: 100%|██████████| 24/24 [03:30<00:00,  8.77s/it]\n",
      "Ablating: 100%|██████████| 24/24 [03:29<00:00,  8.73s/it]\n",
      "Ablating: 100%|██████████| 24/24 [03:28<00:00,  8.68s/it]\n",
      "Ablating: 100%|██████████| 24/24 [03:27<00:00,  8.65s/it]\n",
      "Ablating: 100%|██████████| 24/24 [03:27<00:00,  8.66s/it]\n",
      "Ablating: 100%|██████████| 24/24 [03:27<00:00,  8.66s/it]\n",
      "Ablating: 100%|██████████| 24/24 [03:28<00:00,  8.67s/it]\n",
      "Ablating:   4%|▍         | 1/24 [00:21<08:25, 21.97s/it]"
     ]
    }
   ],
   "source": [
    "combined_result = []\n",
    "for a in cofa_alphas[1:]:\n",
    "    for b in fa_alphas:\n",
    "        ablator.set_heads(heads=cofa_heads, value=a, position=\"attribute\")\n",
    "        ablator.set_heads(heads=fa_heads, value=b, position=\"attribute\", reset=False)\n",
    "        combined_result.append(ablator.run())"
   ]
  },
  {
   "cell_type": "code",
   "execution_count": 9,
   "metadata": {},
   "outputs": [
    {
     "data": {
      "text/html": [
       "<div>\n",
       "<style scoped>\n",
       "    .dataframe tbody tr th:only-of-type {\n",
       "        vertical-align: middle;\n",
       "    }\n",
       "\n",
       "    .dataframe tbody tr th {\n",
       "        vertical-align: top;\n",
       "    }\n",
       "\n",
       "    .dataframe thead th {\n",
       "        text-align: right;\n",
       "    }\n",
       "</style>\n",
       "<table border=\"1\" class=\"dataframe\">\n",
       "  <thead>\n",
       "    <tr style=\"text-align: right;\">\n",
       "      <th></th>\n",
       "      <th>mem</th>\n",
       "      <th>cp</th>\n",
       "      <th>diff</th>\n",
       "      <th>mem_std</th>\n",
       "      <th>cp_std</th>\n",
       "      <th>diff_std</th>\n",
       "      <th>mem_win</th>\n",
       "      <th>cp_win</th>\n",
       "      <th>experiment</th>\n",
       "      <th>fa_alpha</th>\n",
       "      <th>cofa_alpha</th>\n",
       "      <th>percentage</th>\n",
       "    </tr>\n",
       "  </thead>\n",
       "  <tbody>\n",
       "    <tr>\n",
       "      <th>0</th>\n",
       "      <td>14.024076</td>\n",
       "      <td>19.459356</td>\n",
       "      <td>-5.435279</td>\n",
       "      <td>1.795781</td>\n",
       "      <td>2.724508</td>\n",
       "      <td>2.831402</td>\n",
       "      <td>67.0</td>\n",
       "      <td>9928.0</td>\n",
       "      <td>boost</td>\n",
       "      <td>0.0</td>\n",
       "      <td>NaN</td>\n",
       "      <td>0.006703</td>\n",
       "    </tr>\n",
       "    <tr>\n",
       "      <th>1</th>\n",
       "      <td>13.981473</td>\n",
       "      <td>17.561539</td>\n",
       "      <td>-3.580064</td>\n",
       "      <td>1.674214</td>\n",
       "      <td>2.685192</td>\n",
       "      <td>2.665300</td>\n",
       "      <td>413.0</td>\n",
       "      <td>9547.0</td>\n",
       "      <td>boost</td>\n",
       "      <td>1.0</td>\n",
       "      <td>NaN</td>\n",
       "      <td>0.041466</td>\n",
       "    </tr>\n",
       "    <tr>\n",
       "      <th>2</th>\n",
       "      <td>13.947168</td>\n",
       "      <td>15.336195</td>\n",
       "      <td>-1.389028</td>\n",
       "      <td>1.637497</td>\n",
       "      <td>2.689529</td>\n",
       "      <td>2.649626</td>\n",
       "      <td>3218.0</td>\n",
       "      <td>6553.0</td>\n",
       "      <td>boost</td>\n",
       "      <td>2.0</td>\n",
       "      <td>NaN</td>\n",
       "      <td>0.329342</td>\n",
       "    </tr>\n",
       "    <tr>\n",
       "      <th>3</th>\n",
       "      <td>13.857364</td>\n",
       "      <td>14.130378</td>\n",
       "      <td>-0.273015</td>\n",
       "      <td>1.666047</td>\n",
       "      <td>2.702236</td>\n",
       "      <td>2.729101</td>\n",
       "      <td>5014.0</td>\n",
       "      <td>4614.0</td>\n",
       "      <td>boost</td>\n",
       "      <td>5.0</td>\n",
       "      <td>NaN</td>\n",
       "      <td>0.520773</td>\n",
       "    </tr>\n",
       "    <tr>\n",
       "      <th>4</th>\n",
       "      <td>13.839895</td>\n",
       "      <td>13.989985</td>\n",
       "      <td>-0.150091</td>\n",
       "      <td>1.663305</td>\n",
       "      <td>2.688327</td>\n",
       "      <td>2.742588</td>\n",
       "      <td>5156.0</td>\n",
       "      <td>4456.0</td>\n",
       "      <td>boost</td>\n",
       "      <td>10.0</td>\n",
       "      <td>NaN</td>\n",
       "      <td>0.536413</td>\n",
       "    </tr>\n",
       "    <tr>\n",
       "      <th>5</th>\n",
       "      <td>13.831625</td>\n",
       "      <td>13.926047</td>\n",
       "      <td>-0.094424</td>\n",
       "      <td>1.660842</td>\n",
       "      <td>2.670365</td>\n",
       "      <td>2.741903</td>\n",
       "      <td>5229.0</td>\n",
       "      <td>4374.0</td>\n",
       "      <td>boost</td>\n",
       "      <td>100.0</td>\n",
       "      <td>NaN</td>\n",
       "      <td>0.544517</td>\n",
       "    </tr>\n",
       "    <tr>\n",
       "      <th>6</th>\n",
       "      <td>13.981473</td>\n",
       "      <td>17.561539</td>\n",
       "      <td>-3.580064</td>\n",
       "      <td>1.674214</td>\n",
       "      <td>2.685192</td>\n",
       "      <td>2.665300</td>\n",
       "      <td>413.0</td>\n",
       "      <td>9547.0</td>\n",
       "      <td>surpress</td>\n",
       "      <td>NaN</td>\n",
       "      <td>1.0</td>\n",
       "      <td>0.041466</td>\n",
       "    </tr>\n",
       "    <tr>\n",
       "      <th>7</th>\n",
       "      <td>14.634983</td>\n",
       "      <td>17.555273</td>\n",
       "      <td>-2.920290</td>\n",
       "      <td>1.773532</td>\n",
       "      <td>2.632624</td>\n",
       "      <td>2.619529</td>\n",
       "      <td>866.0</td>\n",
       "      <td>9082.0</td>\n",
       "      <td>surpress</td>\n",
       "      <td>NaN</td>\n",
       "      <td>0.5</td>\n",
       "      <td>0.087053</td>\n",
       "    </tr>\n",
       "    <tr>\n",
       "      <th>8</th>\n",
       "      <td>14.811366</td>\n",
       "      <td>17.460604</td>\n",
       "      <td>-2.649238</td>\n",
       "      <td>1.817922</td>\n",
       "      <td>2.562913</td>\n",
       "      <td>2.565062</td>\n",
       "      <td>1092.0</td>\n",
       "      <td>8850.0</td>\n",
       "      <td>surpress</td>\n",
       "      <td>NaN</td>\n",
       "      <td>0.2</td>\n",
       "      <td>0.109837</td>\n",
       "    </tr>\n",
       "    <tr>\n",
       "      <th>9</th>\n",
       "      <td>14.841087</td>\n",
       "      <td>17.440123</td>\n",
       "      <td>-2.599036</td>\n",
       "      <td>1.825139</td>\n",
       "      <td>2.550021</td>\n",
       "      <td>2.555398</td>\n",
       "      <td>1156.0</td>\n",
       "      <td>8786.0</td>\n",
       "      <td>surpress</td>\n",
       "      <td>NaN</td>\n",
       "      <td>0.1</td>\n",
       "      <td>0.116274</td>\n",
       "    </tr>\n",
       "    <tr>\n",
       "      <th>10</th>\n",
       "      <td>14.862119</td>\n",
       "      <td>17.425173</td>\n",
       "      <td>-2.563054</td>\n",
       "      <td>1.830104</td>\n",
       "      <td>2.541396</td>\n",
       "      <td>2.549061</td>\n",
       "      <td>1205.0</td>\n",
       "      <td>8736.0</td>\n",
       "      <td>surpress</td>\n",
       "      <td>NaN</td>\n",
       "      <td>0.0</td>\n",
       "      <td>0.121215</td>\n",
       "    </tr>\n",
       "    <tr>\n",
       "      <th>11</th>\n",
       "      <td>14.606311</td>\n",
       "      <td>13.919310</td>\n",
       "      <td>0.687002</td>\n",
       "      <td>1.750295</td>\n",
       "      <td>2.766486</td>\n",
       "      <td>2.829106</td>\n",
       "      <td>6347.0</td>\n",
       "      <td>3184.0</td>\n",
       "      <td>combined</td>\n",
       "      <td>5.0</td>\n",
       "      <td>0.5</td>\n",
       "      <td>0.665932</td>\n",
       "    </tr>\n",
       "    <tr>\n",
       "      <th>12</th>\n",
       "      <td>14.761031</td>\n",
       "      <td>13.908625</td>\n",
       "      <td>0.852406</td>\n",
       "      <td>1.787015</td>\n",
       "      <td>2.790811</td>\n",
       "      <td>2.860640</td>\n",
       "      <td>6531.0</td>\n",
       "      <td>2959.0</td>\n",
       "      <td>combined</td>\n",
       "      <td>5.0</td>\n",
       "      <td>0.2</td>\n",
       "      <td>0.688198</td>\n",
       "    </tr>\n",
       "    <tr>\n",
       "      <th>13</th>\n",
       "      <td>14.783646</td>\n",
       "      <td>13.912755</td>\n",
       "      <td>0.870891</td>\n",
       "      <td>1.793421</td>\n",
       "      <td>2.791138</td>\n",
       "      <td>2.864683</td>\n",
       "      <td>6539.0</td>\n",
       "      <td>2950.0</td>\n",
       "      <td>combined</td>\n",
       "      <td>5.0</td>\n",
       "      <td>0.1</td>\n",
       "      <td>0.689114</td>\n",
       "    </tr>\n",
       "    <tr>\n",
       "      <th>14</th>\n",
       "      <td>14.798987</td>\n",
       "      <td>13.916886</td>\n",
       "      <td>0.882102</td>\n",
       "      <td>1.798031</td>\n",
       "      <td>2.790921</td>\n",
       "      <td>2.867587</td>\n",
       "      <td>6541.0</td>\n",
       "      <td>2939.0</td>\n",
       "      <td>combined</td>\n",
       "      <td>5.0</td>\n",
       "      <td>0.0</td>\n",
       "      <td>0.689979</td>\n",
       "    </tr>\n",
       "  </tbody>\n",
       "</table>\n",
       "</div>"
      ],
      "text/plain": [
       "          mem         cp      diff   mem_std    cp_std  diff_std  mem_win  \\\n",
       "0   14.024076  19.459356 -5.435279  1.795781  2.724508  2.831402     67.0   \n",
       "1   13.981473  17.561539 -3.580064  1.674214  2.685192  2.665300    413.0   \n",
       "2   13.947168  15.336195 -1.389028  1.637497  2.689529  2.649626   3218.0   \n",
       "3   13.857364  14.130378 -0.273015  1.666047  2.702236  2.729101   5014.0   \n",
       "4   13.839895  13.989985 -0.150091  1.663305  2.688327  2.742588   5156.0   \n",
       "5   13.831625  13.926047 -0.094424  1.660842  2.670365  2.741903   5229.0   \n",
       "6   13.981473  17.561539 -3.580064  1.674214  2.685192  2.665300    413.0   \n",
       "7   14.634983  17.555273 -2.920290  1.773532  2.632624  2.619529    866.0   \n",
       "8   14.811366  17.460604 -2.649238  1.817922  2.562913  2.565062   1092.0   \n",
       "9   14.841087  17.440123 -2.599036  1.825139  2.550021  2.555398   1156.0   \n",
       "10  14.862119  17.425173 -2.563054  1.830104  2.541396  2.549061   1205.0   \n",
       "11  14.606311  13.919310  0.687002  1.750295  2.766486  2.829106   6347.0   \n",
       "12  14.761031  13.908625  0.852406  1.787015  2.790811  2.860640   6531.0   \n",
       "13  14.783646  13.912755  0.870891  1.793421  2.791138  2.864683   6539.0   \n",
       "14  14.798987  13.916886  0.882102  1.798031  2.790921  2.867587   6541.0   \n",
       "\n",
       "    cp_win experiment  fa_alpha  cofa_alpha  percentage  \n",
       "0   9928.0      boost       0.0         NaN    0.006703  \n",
       "1   9547.0      boost       1.0         NaN    0.041466  \n",
       "2   6553.0      boost       2.0         NaN    0.329342  \n",
       "3   4614.0      boost       5.0         NaN    0.520773  \n",
       "4   4456.0      boost      10.0         NaN    0.536413  \n",
       "5   4374.0      boost     100.0         NaN    0.544517  \n",
       "6   9547.0   surpress       NaN         1.0    0.041466  \n",
       "7   9082.0   surpress       NaN         0.5    0.087053  \n",
       "8   8850.0   surpress       NaN         0.2    0.109837  \n",
       "9   8786.0   surpress       NaN         0.1    0.116274  \n",
       "10  8736.0   surpress       NaN         0.0    0.121215  \n",
       "11  3184.0   combined       5.0         0.5    0.665932  \n",
       "12  2959.0   combined       5.0         0.2    0.688198  \n",
       "13  2950.0   combined       5.0         0.1    0.689114  \n",
       "14  2939.0   combined       5.0         0.0    0.689979  "
      ]
     },
     "execution_count": 9,
     "metadata": {},
     "output_type": "execute_result"
    }
   ],
   "source": [
    "# merge all results into one df\n",
    "data_boost = pd.concat(result_boost)\n",
    "data_boost[\"experiment\"] = \"boost\"\n",
    "data_boost[\"fa_alpha\"] = fa_alphas\n",
    "\n",
    "data_surpress = pd.concat(result_surpress)\n",
    "data_surpress[\"experiment\"] = \"surpress\"\n",
    "data_surpress[\"cofa_alpha\"] = cofa_alphas\n",
    "\n",
    "data_combined = pd.concat(combined_result)\n",
    "data_combined[\"experiment\"] = \"combined\"\n",
    "data_combined[\"cofa_alpha\"] = cofa_alphas[1:]\n",
    "data_combined[\"fa_alpha\"] = 5\n",
    "\n",
    "data = pd.concat([data_boost, data_surpress, data_combined])\n",
    "data = data.reset_index(drop=True)\n",
    "data['percentage'] = data['mem_win'] / (data['mem_win'] + data['cp_win']).astype(float)\n",
    "\n",
    "data"
   ]
  },
  {
   "cell_type": "code",
   "execution_count": 10,
   "metadata": {},
   "outputs": [],
   "source": [
    "data.to_csv(\"../data/ablation_results.csv\", index=False)"
   ]
  },
  {
   "cell_type": "code",
   "execution_count": null,
   "metadata": {},
   "outputs": [],
   "source": [
    "ablator.set_heads(heads=cofa_heads, value=a, position=\"attribute\")\n",
    "ablator.set_heads(heads=fa_heads, value=5, position=\"attribute\", reset=False)\n",
    "combined_result.append(ablator.run())\n"
   ]
  },
  {
   "cell_type": "code",
   "execution_count": null,
   "metadata": {},
   "outputs": [
    {
     "name": "stdout",
     "output_type": "stream",
     "text": [
      "[0.04146586345381526, 0.08705267390430237, 0.5207727461570419, 0.6899789029535865]\n"
     ]
    },
    {
     "data": {
      "image/png": "[encoded data removed]",
      "text/plain": [
       "<Figure size 640x480 with 1 Axes>"
      ]
     },
     "metadata": {},
     "output_type": "display_data"
    }
   ],
   "source": [
    "# plot the bar plot with keys as x axis and percentage value as y axis\n",
    "import matplotlib.pyplot as plt\n",
    "\n",
    "plt.bar(res.keys(), [v['percentage'] for v in res.values()])\n",
    "plt.show()\n"
   ]
  },
  {
   "cell_type": "markdown",
   "metadata": {},
   "source": [
    "## Use your own modification"
   ]
  },
  {
   "cell_type": "markdown",
   "metadata": {},
   "source": [
    "You can pass to the model your own modification function. You can pass a list of hook (string, function) to the model using set_hooks method. The hooks should be consistent with the hook of the transformer lens library (https://neelnanda-io.github.io/TransformerLens/index.html)"
   ]
  },
  {
   "cell_type": "code",
   "execution_count": null,
   "metadata": {},
   "outputs": [],
   "source": []
  }
 ],
 "metadata": {
  "kernelspec": {
   "display_name": "fact",
   "language": "python",
   "name": "python3"
  },
  "language_info": {
   "codemirror_mode": {
    "name": "ipython",
    "version": 3
   },
   "file_extension": ".py",
   "mimetype": "text/x-python",
   "name": "python",
   "nbconvert_exporter": "python",
   "pygments_lexer": "ipython3",
   "version": "3.10.16"
  }
 },
 "nbformat": 4,
 "nbformat_minor": 2
}
