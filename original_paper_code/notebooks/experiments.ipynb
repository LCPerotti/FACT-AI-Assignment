{
 "cells": [
  {
   "cell_type": "code",
   "execution_count": 1,
   "metadata": {},
   "outputs": [],
   "source": [
    "import sys\n",
    "import os\n",
    "sys.path.append('..')\n",
    "sys.path.append('../src')\n",
    "sys.path.append('../data')\n",
    "import torch\n",
    "\n",
    "%load_ext autoreload\n",
    "%autoreload 2"
   ]
  },
  {
   "cell_type": "markdown",
   "metadata": {},
   "source": [
    "All the experiment return a pandas dataframe. \n",
    "\n",
    "    - mem: stand for the factual recall mechanism\n",
    "    - cp: stand for the counterfactual mechanism   "
   ]
  },
  {
   "cell_type": "markdown",
   "metadata": {},
   "source": [
    "## Load data and model"
   ]
  },
  {
   "cell_type": "code",
   "execution_count": null,
   "metadata": {},
   "outputs": [],
   "source": [
    "from Src.dataset import BaseDataset\n",
    "from Src.model import ModelFactory\n",
    "model = ModelFactory.create(\"gpt2\", device=\"cuda\")\n",
    "dataset = BaseDataset(\n",
    "    path= \"../data/full_data_sampled_gpt2_with_subjects.json\",\n",
    "    model=model,\n",
    "    experiment=\"copyVSfact\",\n",
    "    premise=\"Redefine\",\n",
    ")"
   ]
  },
  {
   "cell_type": "markdown",
   "metadata": {},
   "source": [
    "## Logit Lens\n",
    "Compute the logit lens in the residual stream"
   ]
  },
  {
   "cell_type": "code",
   "execution_count": null,
   "metadata": {},
   "outputs": [],
   "source": [
    "from Src.experiment import LogitLens\n",
    "logit_lens = LogitLens(\n",
    "    dataset=dataset,\n",
    "    model=model,\n",
    "    batch_size=40,\n",
    "    experiment=\"copyVSfact\",\n",
    ")"
   ]
  },
  {
   "cell_type": "code",
   "execution_count": null,
   "metadata": {},
   "outputs": [],
   "source": [
    "logit_lens.run(\n",
    "    component=\"resid_post\", # \"resid_pre\" (pre attention) or \"resid_mid\" (post attention and pre mlp) or \"resid_post\" (post mlp)\n",
    "    normalize_logit=\"none\"\n",
    ")"
   ]
  },
  {
   "cell_type": "markdown",
   "metadata": {},
   "source": [
    "## Logit Attribution"
   ]
  },
  {
   "cell_type": "markdown",
   "metadata": {},
   "source": [
    "Compute the logit lens for the output of attention blocks, MLP blocks and attention heads"
   ]
  },
  {
   "cell_type": "code",
   "execution_count": null,
   "metadata": {},
   "outputs": [],
   "source": [
    "from Src.experiment import LogitAttribution\n",
    "logit_attribution = LogitAttribution(\n",
    "    dataset=dataset,\n",
    "    model=model,\n",
    "    batch_size=40,\n",
    "    experiment=\"copyVSfact\",\n",
    ")"
   ]
  },
  {
   "cell_type": "code",
   "execution_count": null,
   "metadata": {},
   "outputs": [],
   "source": [
    "logit_attribution.run()\n"
   ]
  },
  {
   "cell_type": "markdown",
   "metadata": {},
   "source": [
    "## Extract Pattern heads"
   ]
  },
  {
   "cell_type": "code",
   "execution_count": null,
   "metadata": {},
   "outputs": [],
   "source": [
    "from Src.experiment import HeadPattern\n",
    "\n",
    "head_pattern = HeadPattern(\n",
    "    dataset=dataset,\n",
    "    model=model,\n",
    "    batch_size=40,\n",
    "    experiment=\"copyVSfact\",\n",
    ")"
   ]
  },
  {
   "cell_type": "code",
   "execution_count": null,
   "metadata": {},
   "outputs": [],
   "source": [
    "head_pattern.run()"
   ]
  }
 ],
 "metadata": {
  "kernelspec": {
   "display_name": "torch",
   "language": "python",
   "name": "python3"
  },
  "language_info": {
   "codemirror_mode": {
    "name": "ipython",
    "version": 3
   },
   "file_extension": ".py",
   "mimetype": "text/x-python",
   "name": "python",
   "nbconvert_exporter": "python",
   "pygments_lexer": "ipython3",
   "version": "3.10.11"
  }
 },
 "nbformat": 4,
 "nbformat_minor": 2
}
